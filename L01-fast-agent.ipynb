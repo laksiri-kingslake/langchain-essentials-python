{
 "cells": [
  {
   "cell_type": "markdown",
   "id": "f347110a",
   "metadata": {},
   "source": [
    "## Fast Agent - Build a SQL Agent\n",
    "\n",
    "<img src=\"./assets/LC_L1_Top.png\" align=\"left\" width=\"500\">"
   ]
  },
  {
   "cell_type": "markdown",
   "id": "474da76c",
   "metadata": {},
   "source": [
    "### Environment Setup\n",
    "\n",
    "Load and check environment variables"
   ]
  },
  {
   "cell_type": "code",
   "execution_count": 32,
   "id": "b25500d3",
   "metadata": {},
   "outputs": [
    {
     "name": "stdout",
     "output_type": "stream",
     "text": [
      "LANGSMITH_API_KEY=****8392\n",
      "LANGSMITH_TRACING=true\n",
      "LANGSMITH_PROJECT=****ials\n",
      "OPENAI_API_KEY=****wEQA\n"
     ]
    }
   ],
   "source": [
    "from dotenv import load_dotenv\n",
    "from utils import doublecheck_env\n",
    "\n",
    "load_dotenv()\n",
    "\n",
    "# Check and print results\n",
    "doublecheck_env(\".env\")"
   ]
  },
  {
   "cell_type": "markdown",
   "id": "0c01a049",
   "metadata": {},
   "source": [
    "### Setup Database"
   ]
  },
  {
   "cell_type": "code",
   "execution_count": 33,
   "id": "a2f4924b",
   "metadata": {},
   "outputs": [],
   "source": [
    "from langchain_community.utilities import SQLDatabase\n",
    "\n",
    "sqldb = SQLDatabase.from_uri(\"sqlite:///Chinook.db\")"
   ]
  },
  {
   "cell_type": "markdown",
   "id": "5ab3d103",
   "metadata": {},
   "source": [
    "Define the runtime context to provide the agent and tools with access to the database"
   ]
  },
  {
   "cell_type": "code",
   "execution_count": 34,
   "id": "578d1d9a",
   "metadata": {},
   "outputs": [],
   "source": [
    "from dataclasses import dataclass\n",
    "\n",
    "# define context structure to support dependency injection\n",
    "@dataclass\n",
    "class RuntimeContext:\n",
    "    condextdb: SQLDatabase"
   ]
  },
  {
   "cell_type": "markdown",
   "id": "a559a2a1",
   "metadata": {},
   "source": [
    "- This demo does not include a filter on LLM generated commands. In production limit the scope of LLM generated commands\n",
    "- This tool will connect the database\n",
    "- Note the use of get_runtime to access the graph runtime"
   ]
  },
  {
   "cell_type": "markdown",
   "id": "e0ed49c4",
   "metadata": {},
   "source": [
    "### Prepare Tools"
   ]
  },
  {
   "cell_type": "code",
   "execution_count": 35,
   "id": "86416913",
   "metadata": {},
   "outputs": [],
   "source": [
    "from langchain_core.tools import tool\n",
    "from langgraph.runtime import get_runtime\n",
    "\n",
    "@tool\n",
    "def execute_sql(query: str) -> str:\n",
    "    \"\"\"Exxecute SQLite command and return the results as a string.\"\"\"\n",
    "\n",
    "    runtime = get_runtime(RuntimeContext)\n",
    "    db = runtime.context.condextdb\n",
    "\n",
    "    try:\n",
    "        return db.run(query)\n",
    "    except Exception as e:\n",
    "        return f\"Error executing query: {e}\""
   ]
  },
  {
   "cell_type": "markdown",
   "id": "ae5b1bf7",
   "metadata": {},
   "source": [
    "### Add system prompt"
   ]
  },
  {
   "cell_type": "code",
   "execution_count": 36,
   "id": "b1d88466",
   "metadata": {},
   "outputs": [],
   "source": [
    "SYSTEM_PROMPT = \"\"\"You are a careful SQLite analyst.\n",
    "\n",
    "Rules:\n",
    "- Think step-by-step.\n",
    "- When you need data, call the tool `execute_sql` with ONE SELECT query.\n",
    "- Read-only only; no INSERT/UPDATE/DELETE/ALTER/DROP/CREATE/REPLACE/TRUNCATE.\n",
    "- Limit to 5 rows of output unless the user explicitly asks otherwise.\n",
    "- If the tool returns 'Error:', revise the SQL and try again.\n",
    "- Prefer explicit column lists; avoid SELECT *.\n",
    "\"\"\""
   ]
  },
  {
   "cell_type": "markdown",
   "id": "bf303ff4",
   "metadata": {},
   "source": [
    "### Create agent\n",
    "\n",
    "- Add model\n",
    "- Add tools\n",
    "- Add system prompt\n",
    "- Add runtime context"
   ]
  },
  {
   "cell_type": "code",
   "execution_count": 41,
   "id": "5cf7c680",
   "metadata": {},
   "outputs": [],
   "source": [
    "from langchain.agents import create_agent\n",
    "\n",
    "agent = create_agent(\n",
    "    model=\"ollama:gpt-oss:20b-cloud\",\n",
    "    tools=[execute_sql],\n",
    "    system_prompt=SYSTEM_PROMPT,\n",
    "    context_schema=RuntimeContext,\n",
    ")"
   ]
  },
  {
   "cell_type": "markdown",
   "id": "23c66093",
   "metadata": {},
   "source": [
    "Display agent ReAct loop"
   ]
  },
  {
   "cell_type": "code",
   "execution_count": 42,
   "id": "8ffccd42",
   "metadata": {},
   "outputs": [
    {
     "data": {
      "image/png": "[encoded data removed]",
      "text/plain": [
       "<IPython.core.display.Image object>"
      ]
     },
     "metadata": {},
     "output_type": "display_data"
    }
   ],
   "source": [
    "from IPython.display import display, Image\n",
    "\n",
    "display(Image(agent.get_graph(xray=True).draw_mermaid_png()))"
   ]
  },
  {
   "cell_type": "markdown",
   "id": "3e294aee",
   "metadata": {},
   "source": [
    "### Run queries\n",
    "\n",
    "- The agent does not have the database schema and will need to discover it independently.\n",
    "- The agent may make mistakes! By returning error messages, the agent can self-correct its queries.\n",
    "- Notice you invoke the agent with `agent.stream`.\n",
    "    - This command and the `pretty_print` display the **messages** that communicate information between the model and the tools.\n",
    "- Notice the agent doesn't remember the schema between invocations... More on this later!"
   ]
  },
  {
   "cell_type": "code",
   "execution_count": 43,
   "id": "e2303423",
   "metadata": {},
   "outputs": [
    {
     "name": "stdout",
     "output_type": "stream",
     "text": [
      "================================\u001b[1m Human Message \u001b[0m=================================\n",
      "\n",
      "Which table has the largest number of entries?\n",
      "==================================\u001b[1m Ai Message \u001b[0m==================================\n",
      "Tool Calls:\n",
      "  execute_sql (c544aa11-5831-4b77-af65-35902d23c492)\n",
      " Call ID: c544aa11-5831-4b77-af65-35902d23c492\n",
      "  Args:\n",
      "    query: SELECT name FROM sqlite_master WHERE type='table' AND name NOT LIKE 'sqlite_%';\n",
      "=================================\u001b[1m Tool Message \u001b[0m=================================\n",
      "Name: execute_sql\n",
      "\n",
      "[('Album',), ('Artist',), ('Customer',), ('Employee',), ('Genre',), ('Invoice',), ('InvoiceLine',), ('MediaType',), ('Playlist',), ('PlaylistTrack',), ('Track',)]\n",
      "==================================\u001b[1m Ai Message \u001b[0m==================================\n",
      "Tool Calls:\n",
      "  execute_sql (df884a10-3715-4176-95da-acab2097626f)\n",
      " Call ID: df884a10-3715-4176-95da-acab2097626f\n",
      "  Args:\n",
      "    query: SELECT 'Album' AS tbl, COUNT(*) AS cnt FROM Album\n",
      "UNION ALL\n",
      "SELECT 'Artist', COUNT(*) FROM Artist\n",
      "UNION ALL\n",
      "SELECT 'Customer', COUNT(*) FROM Customer\n",
      "UNION ALL\n",
      "SELECT 'Employee', COUNT(*) FROM Employee\n",
      "UNION ALL\n",
      "SELECT 'Genre', COUNT(*) FROM Genre\n",
      "UNION ALL\n",
      "SELECT 'Invoice', COUNT(*) FROM Invoice\n",
      "UNION ALL\n",
      "SELECT 'InvoiceLine', COUNT(*) FROM InvoiceLine\n",
      "UNION ALL\n",
      "SELECT 'MediaType', COUNT(*) FROM MediaType\n",
      "UNION ALL\n",
      "SELECT 'Playlist', COUNT(*) FROM Playlist\n",
      "UNION ALL\n",
      "SELECT 'PlaylistTrack', COUNT(*) FROM PlaylistTrack\n",
      "UNION ALL\n",
      "SELECT 'Track', COUNT(*) FROM Track;\n",
      "=================================\u001b[1m Tool Message \u001b[0m=================================\n",
      "Name: execute_sql\n",
      "\n",
      "[('Album', 347), ('Artist', 275), ('Customer', 59), ('Employee', 8), ('Genre', 25), ('Invoice', 412), ('InvoiceLine', 2240), ('MediaType', 5), ('Playlist', 18), ('PlaylistTrack', 8715), ('Track', 3503)]\n",
      "==================================\u001b[1m Ai Message \u001b[0m==================================\n",
      "\n",
      "The table that holds the most rows is **`PlaylistTrack`**, with **8,715** entries.\n"
     ]
    }
   ],
   "source": [
    "question = \"Which table has the largest number of entries?\"\n",
    "\n",
    "for step in agent.stream(\n",
    "    {\"messages\": question},\n",
    "    context=RuntimeContext(condextdb=sqldb),\n",
    "    stream_mode=\"values\"\n",
    "):\n",
    "    step[\"messages\"][-1].pretty_print()"
   ]
  }
 ],
 "metadata": {
  "kernelspec": {
   "display_name": "langchain-essentials-python",
   "language": "python",
   "name": "python3"
  },
  "language_info": {
   "codemirror_mode": {
    "name": "ipython",
    "version": 3
   },
   "file_extension": ".py",
   "mimetype": "text/x-python",
   "name": "python",
   "nbconvert_exporter": "python",
   "pygments_lexer": "ipython3",
   "version": "3.12.3"
  }
 },
 "nbformat": 4,
 "nbformat_minor": 5
}
